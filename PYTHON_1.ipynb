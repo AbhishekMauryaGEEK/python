{
  "nbformat": 4,
  "nbformat_minor": 0,
  "metadata": {
    "colab": {
      "provenance": [],
      "authorship_tag": "ABX9TyPU+rkP4HIDn/+gHp0HsFyc",
      "include_colab_link": true
    },
    "kernelspec": {
      "name": "python3",
      "display_name": "Python 3"
    },
    "language_info": {
      "name": "python"
    }
  },
  "cells": [
    {
      "cell_type": "markdown",
      "metadata": {
        "id": "view-in-github",
        "colab_type": "text"
      },
      "source": [
        "<a href=\"https://colab.research.google.com/github/AbhishekMauryaGEEK/python/blob/main/PYTHON_1.ipynb\" target=\"_parent\"><img src=\"https://colab.research.google.com/assets/colab-badge.svg\" alt=\"Open In Colab\"/></a>"
      ]
    },
    {
      "cell_type": "code",
      "execution_count": null,
      "metadata": {
        "colab": {
          "base_uri": "https://localhost:8080/"
        },
        "id": "Mh_3Tv5lwo1R",
        "outputId": "9e4e29c5-3023-4cbc-d39c-cf23981c1016"
      },
      "outputs": [
        {
          "output_type": "stream",
          "name": "stdout",
          "text": [
            "Hello World\n"
          ]
        }
      ],
      "source": [
        "print(\"Hello World\")"
      ]
    },
    {
      "cell_type": "code",
      "source": [
        "x=40-20\n",
        "y=\"Hello\"\n",
        "z=3.5\n",
        "if(z==3.5) or (y==\"Hello\"):\n",
        "  x=x+1\n",
        "  y=y+\"World\"\n",
        "print(x)\n",
        "print(y)"
      ],
      "metadata": {
        "colab": {
          "base_uri": "https://localhost:8080/"
        },
        "id": "hGQRLU8nzJbp",
        "outputId": "637f74eb-b8f9-4551-b22b-4aa5e1cd297e"
      },
      "execution_count": null,
      "outputs": [
        {
          "output_type": "stream",
          "name": "stdout",
          "text": [
            "21\n",
            "HelloWorld\n"
          ]
        }
      ]
    },
    {
      "cell_type": "code",
      "source": [
        "x,y=2,3\n",
        "x,y"
      ],
      "metadata": {
        "colab": {
          "base_uri": "https://localhost:8080/"
        },
        "id": "Sx5GosXYzsk0",
        "outputId": "e1f866dd-dac6-4137-e165-ebd3ac39a6bf"
      },
      "execution_count": null,
      "outputs": [
        {
          "output_type": "execute_result",
          "data": {
            "text/plain": [
              "3"
            ]
          },
          "metadata": {},
          "execution_count": 8
        }
      ]
    },
    {
      "cell_type": "code",
      "source": [
        "x=7\n",
        "x\n",
        "x=\"hello\"\n",
        "x"
      ],
      "metadata": {
        "colab": {
          "base_uri": "https://localhost:8080/",
          "height": 35
        },
        "id": "rgRQjxoUz-J5",
        "outputId": "8f65a904-275f-4adc-c638-69d0838b6f15"
      },
      "execution_count": null,
      "outputs": [
        {
          "output_type": "execute_result",
          "data": {
            "text/plain": [
              "'hello'"
            ],
            "application/vnd.google.colaboratory.intrinsic+json": {
              "type": "string"
            }
          },
          "metadata": {},
          "execution_count": 9
        }
      ]
    },
    {
      "cell_type": "code",
      "source": [
        "1312312\n",
        "13331233**2"
      ],
      "metadata": {
        "colab": {
          "base_uri": "https://localhost:8080/"
        },
        "id": "H--bjZMP0JRP",
        "outputId": "949e0304-55e5-42ee-aea9-c6ffd28c2332"
      },
      "execution_count": null,
      "outputs": [
        {
          "output_type": "execute_result",
          "data": {
            "text/plain": [
              "177721773300289"
            ]
          },
          "metadata": {},
          "execution_count": 16
        }
      ]
    },
    {
      "cell_type": "code",
      "source": [
        "1.23232\n",
        "1.3E7\n",
        "int (13.67)\n",
        "float(64)\n",
        "print(int(13.67))\n",
        "print(float(64))\n",
        "x=3+2j\n",
        "y=-1j\n",
        "x+y\n",
        "print(3+1j)\n",
        "print(x*y)\n",
        "print(2-3j)\n",
        "\n"
      ],
      "metadata": {
        "colab": {
          "base_uri": "https://localhost:8080/"
        },
        "id": "shyFxKKK0TwX",
        "outputId": "9fda4546-9a74-49d1-f690-5097b1320ede"
      },
      "execution_count": null,
      "outputs": [
        {
          "output_type": "stream",
          "name": "stdout",
          "text": [
            "13\n",
            "64.0\n",
            "(3+1j)\n",
            "(2-3j)\n",
            "(2-3j)\n"
          ]
        }
      ]
    },
    {
      "cell_type": "code",
      "source": [
        "x=\"hello \"\n",
        "x=x+\"there\"\n",
        "print(x)\n"
      ],
      "metadata": {
        "colab": {
          "base_uri": "https://localhost:8080/"
        },
        "id": "pErdECCp1Pqn",
        "outputId": "87140077-f208-4145-eefc-6f0674d725b1"
      },
      "execution_count": null,
      "outputs": [
        {
          "output_type": "stream",
          "name": "stdout",
          "text": [
            "hello there\n"
          ]
        }
      ]
    },
    {
      "cell_type": "code",
      "source": [
        "x=\"I am a string\"\n",
        "print(x)\n",
        "y=\"\"\"THIS IS A LONG STRING\n",
        "OF MULTIPLE LINES \"\"\"\n",
        "print(y)"
      ],
      "metadata": {
        "colab": {
          "base_uri": "https://localhost:8080/"
        },
        "id": "Zk-4nkfr1YeF",
        "outputId": "dcd30311-de0a-42c4-baa8-a84b19625b75"
      },
      "execution_count": null,
      "outputs": [
        {
          "output_type": "stream",
          "name": "stdout",
          "text": [
            "I am a string\n",
            "THIS IS A LONG STRING \n",
            "OF MULTIPLE LINES \n"
          ]
        }
      ]
    },
    {
      "cell_type": "code",
      "source": [
        "x=[1,'hello']\n",
        "x=(1,2,3)\n",
        "x[1:]\n",
        "y=(2,)\n",
        "y"
      ],
      "metadata": {
        "id": "cCU_cKwb1zLo",
        "colab": {
          "base_uri": "https://localhost:8080/"
        },
        "outputId": "e8cb34df-0f89-4e5d-c257-35254fd33df5"
      },
      "execution_count": 3,
      "outputs": [
        {
          "output_type": "execute_result",
          "data": {
            "text/plain": [
              "(2,)"
            ]
          },
          "metadata": {},
          "execution_count": 3
        }
      ]
    },
    {
      "cell_type": "code",
      "source": [
        "d={1:\"hello\",'two':42,'blah':[1,2,3]}\n",
        "d\n",
        "{1:'hello','two':42,'blah':[1,2,3]}\n",
        "[1,2,3]"
      ],
      "metadata": {
        "colab": {
          "base_uri": "https://localhost:8080/"
        },
        "id": "il5CsF8MAX83",
        "outputId": "a39012a3-a413-4a1d-92fd-1fe54bfeda82"
      },
      "execution_count": 5,
      "outputs": [
        {
          "output_type": "execute_result",
          "data": {
            "text/plain": [
              "[1, 2, 3]"
            ]
          },
          "metadata": {},
          "execution_count": 5
        }
      ]
    },
    {
      "cell_type": "code",
      "source": [
        " a = 10\n",
        "b = a\n",
        "print(\"Value of a and b before increment\")\n",
        "print(\"id of a:\", id(a))\n",
        "print(\"id of b:\", id(b))\n",
        "b = a + 1\n",
        "print(\"Value of a and b after increment\")\n",
        "print(\"id of a:\", id(a))\n",
        "print(\"id of b:\", id(b))"
      ],
      "metadata": {
        "colab": {
          "base_uri": "https://localhost:8080/"
        },
        "id": "ZXg9WdCDBO3Z",
        "outputId": "6be6b4f7-8c17-43d0-d17b-cc93ee05b6bc"
      },
      "execution_count": 9,
      "outputs": [
        {
          "output_type": "stream",
          "name": "stdout",
          "text": [
            "Value of a and b before increment\n",
            "id of a: 11642376\n",
            "id of b: 11642376\n",
            "Value of a and b after increment\n",
            "id of a: 11642376\n",
            "id of b: 11642408\n"
          ]
        }
      ]
    },
    {
      "cell_type": "code",
      "source": [
        "int_a = 10\n",
        "print(\"Type of 'int_a':\", type(int_a))\n",
        "str_b = \"Hello\"\n",
        "print(\"Type of 'str_b':\", type(str_b))\n",
        "list_c = []\n",
        "print(\"Type of 'list_c':\", type(list_c)"
      ],
      "metadata": {
        "colab": {
          "base_uri": "https://localhost:8080/",
          "height": 106
        },
        "id": "8pW6iVIkCC6F",
        "outputId": "003b0387-aa9c-4701-dccb-b5fd0897cc1a"
      },
      "execution_count": 11,
      "outputs": [
        {
          "output_type": "error",
          "ename": "SyntaxError",
          "evalue": "incomplete input (ipython-input-375820679.py, line 6)",
          "traceback": [
            "\u001b[0;36m  File \u001b[0;32m\"/tmp/ipython-input-375820679.py\"\u001b[0;36m, line \u001b[0;32m6\u001b[0m\n\u001b[0;31m    print(\"Type of 'list_c':\", type(list_c)\u001b[0m\n\u001b[0m                                           ^\u001b[0m\n\u001b[0;31mSyntaxError\u001b[0m\u001b[0;31m:\u001b[0m incomplete input\n"
          ]
        }
      ]
    }
  ]
}